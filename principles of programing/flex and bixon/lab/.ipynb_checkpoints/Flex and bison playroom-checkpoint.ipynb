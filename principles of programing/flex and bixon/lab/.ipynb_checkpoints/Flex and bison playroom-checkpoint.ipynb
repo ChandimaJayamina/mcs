{
 "cells": [
  {
   "cell_type": "markdown",
   "id": "734563c1",
   "metadata": {},
   "source": [
    "### Word Counting "
   ]
  },
  {
   "cell_type": "code",
   "execution_count": 69,
   "id": "3ca39dc3",
   "metadata": {},
   "outputs": [
    {
     "name": "stdout",
     "output_type": "stream",
     "text": [
      "Overwriting ch1-1.l\n"
     ]
    }
   ],
   "source": [
    "%%file ch1-1.l     \n",
    "/* create file with ch1-1 */\n",
    "\n",
    "%{\n",
    "int chars = 0;\n",
    "int words = 0;\n",
    "int lines = 0;\n",
    "%}\n",
    "\n",
    "\n",
    "%%\n",
    "\n",
    "[^ \\t\\n\\r\\f\\v]+ { words++; chars += strlen(yytext); } //without tab,new line,old line ending,page breaks,verticaltab\n",
    "\\n\t\t{ chars++; lines++; }\n",
    ".\t\t{ chars++; }\n",
    "\n",
    "%%\n",
    "\n",
    "int main(void)\n",
    "{\n",
    "    yylex();     //perform lexical analyser on the commands\n",
    "    printf(\"Hello Eagle\\n\");\n",
    "    printf(\"Lines:%3d\\nWords:%3d\\nChars:%3d\\n\", lines, words, chars);\n",
    "    return 0;\n",
    "}\n"
   ]
  },
  {
   "cell_type": "code",
   "execution_count": 70,
   "id": "e1a59f01",
   "metadata": {},
   "outputs": [],
   "source": [
    "%%bash\n",
    "flex ch1-1.l\n",
    "#  This creates lex.yy.c file"
   ]
  },
  {
   "cell_type": "code",
   "execution_count": 71,
   "id": "ee848546",
   "metadata": {
    "scrolled": true
   },
   "outputs": [
    {
     "name": "stderr",
     "output_type": "stream",
     "text": [
      "ld: warning: object file (/Library/Developer/CommandLineTools/SDKs/MacOSX14.2.sdk/usr/lib/libl.a[arm64][3](libyywrap.o)) was built for newer 'macOS' version (14.2) than being linked (14.0)\n"
     ]
    }
   ],
   "source": [
    "%%bash\n",
    "gcc lex.yy.c -ll\n",
    "# This creates a.out file"
   ]
  },
  {
   "cell_type": "code",
   "execution_count": 74,
   "id": "35ce9413",
   "metadata": {},
   "outputs": [
    {
     "name": "stdout",
     "output_type": "stream",
     "text": [
      "Hello Eagle\n",
      "Lines:  1\n",
      "Words:  6\n",
      "Chars: 35\n"
     ]
    }
   ],
   "source": [
    "%%bash\n",
    "./a.out\n",
    "Welcome to word counter program ;)"
   ]
  },
  {
   "cell_type": "markdown",
   "id": "86dfc55f",
   "metadata": {},
   "source": [
    "### How this works\n",
    "1. You write your lexical specifications in a Flex input file, for example, lexer.l.\n",
    "2. You run Flex on lexer.l to generate the lexer source file, usually named lex.yy.c, using a command like \n",
    "flex lexer.l.\n",
    "3. You compile the generated C source file along with your other program files using a C compiler \n",
    "(e.g., gcc) to create an executable program.\n",
    "4. You use the generated program to analyze input text, \n",
    "recognizing tokens based on the patterns specified in the Flex input file.\n"
   ]
  },
  {
   "cell_type": "markdown",
   "id": "d7443dc1",
   "metadata": {},
   "source": [
    "### US to UK Translator"
   ]
  },
  {
   "cell_type": "code",
   "execution_count": 75,
   "id": "837d4619",
   "metadata": {},
   "outputs": [
    {
     "name": "stdout",
     "output_type": "stream",
     "text": [
      "Writing ch1-2.l\n"
     ]
    }
   ],
   "source": [
    "%%file ch1-2.l\n",
    "\n",
    "%%\n",
    "\"colour\" { printf(\"color\"); }\n",
    "\"flavour\" { printf(\"flavor\"); }\n",
    "\"clever\" { printf(\"smart\"); }\n",
    "\"smart\" { printf(\"elegant\"); }\n",
    "\"liberal\" { printf(\"conservative\"); }\n",
    ". { printf(\"%s\", yytext); }\n",
    "%%\n",
    "\n",
    "int main(void)\n",
    "{\n",
    "    yylex();\n",
    "    return 0;\n",
    "}"
   ]
  },
  {
   "cell_type": "code",
   "execution_count": 79,
   "id": "f46053dc",
   "metadata": {},
   "outputs": [],
   "source": [
    "%%bash\n",
    "flex ch1-2.l"
   ]
  },
  {
   "cell_type": "code",
   "execution_count": 80,
   "id": "13ccee47",
   "metadata": {},
   "outputs": [
    {
     "name": "stderr",
     "output_type": "stream",
     "text": [
      "ld: warning: object file (/Library/Developer/CommandLineTools/SDKs/MacOSX14.2.sdk/usr/lib/libl.a[arm64][3](libyywrap.o)) was built for newer 'macOS' version (14.2) than being linked (14.0)\n"
     ]
    }
   ],
   "source": [
    "%%bash\n",
    "gcc lex.yy.c -ll"
   ]
  },
  {
   "cell_type": "code",
   "execution_count": 81,
   "id": "a57f1feb",
   "metadata": {},
   "outputs": [
    {
     "name": "stdout",
     "output_type": "stream",
     "text": [
      "conservative\n",
      "smart\n",
      "elegant\n"
     ]
    }
   ],
   "source": [
    "%%bash\n",
    "./a.out\n",
    "liberal\n",
    "clever\n",
    "smart"
   ]
  },
  {
   "cell_type": "markdown",
   "id": "5e71c2dc",
   "metadata": {},
   "source": [
    "### Recognize calculator tokens"
   ]
  },
  {
   "cell_type": "code",
   "execution_count": 82,
   "id": "c50f1f19",
   "metadata": {},
   "outputs": [
    {
     "name": "stdout",
     "output_type": "stream",
     "text": [
      "Writing ch1-3.l\n"
     ]
    }
   ],
   "source": [
    "%%file ch1-3.l\n",
    "\n",
    "%%\n",
    "\"+\"\t{ printf(\"PLUS\\n\"); }\n",
    "\"-\"\t{ printf(\"MINUS\\n\"); }\n",
    "\"*\"\t{ printf(\"TIMES\\n\"); }\n",
    "\"/\"\t{ printf(\"DIVIDE\\n\"); }\n",
    "\"|\"     { printf(\"ABS\\n\"); }\n",
    "[0-9]+\t{ printf(\"NUMBER %s\\n\", yytext); }\n",
    "\\n      { printf(\"NEWLINE\\n\"); }\n",
    "[ \\t] { }\n",
    ".\t{ printf(\"Mystery character %s\\n\", yytext); }\n",
    "%%"
   ]
  },
  {
   "cell_type": "code",
   "execution_count": 84,
   "id": "39247d05",
   "metadata": {},
   "outputs": [],
   "source": [
    "%%bash\n",
    "flex ch1-3.l"
   ]
  },
  {
   "cell_type": "code",
   "execution_count": 85,
   "id": "bb232e0d",
   "metadata": {},
   "outputs": [
    {
     "name": "stderr",
     "output_type": "stream",
     "text": [
      "ld: warning: object file (/Library/Developer/CommandLineTools/SDKs/MacOSX14.2.sdk/usr/lib/libl.a[arm64][2](libmain.o)) was built for newer 'macOS' version (14.2) than being linked (14.0)\n",
      "ld: warning: object file (/Library/Developer/CommandLineTools/SDKs/MacOSX14.2.sdk/usr/lib/libl.a[arm64][3](libyywrap.o)) was built for newer 'macOS' version (14.2) than being linked (14.0)\n"
     ]
    }
   ],
   "source": [
    "%%bash\n",
    "gcc lex.yy.c -ll"
   ]
  },
  {
   "cell_type": "code",
   "execution_count": 86,
   "id": "09d09c9c",
   "metadata": {},
   "outputs": [
    {
     "name": "stdout",
     "output_type": "stream",
     "text": [
      "NUMBER 12\n",
      "PLUS\n",
      "NUMBER 34\n",
      "NEWLINE\n",
      "NUMBER 540\n",
      "MINUS\n",
      "NUMBER 267\n",
      "NEWLINE\n"
     ]
    }
   ],
   "source": [
    "%%bash\n",
    "./a.out\n",
    "12+34\n",
    "540 - 267"
   ]
  },
  {
   "cell_type": "code",
   "execution_count": 92,
   "id": "70bfb013",
   "metadata": {},
   "outputs": [
    {
     "name": "stdout",
     "output_type": "stream",
     "text": [
      "Overwriting ch1-4.l\n"
     ]
    }
   ],
   "source": [
    "%%file ch1-4.l\n",
    "\n",
    "\n",
    "%{\n",
    "   enum yytokentype {\n",
    "     NUMBER = 258,\n",
    "     ADD = 259,\n",
    "     SUB = 260,\n",
    "     MUL = 261,\n",
    "     DIV = 262,\n",
    "     ABS = 263,\n",
    "     EOL = 264 /* end of line */\n",
    "   };\n",
    "\n",
    "   int yylval;\n",
    "\n",
    "%}\n",
    "\n",
    "\n",
    "%%\n",
    "\"+\"\t{ return ADD; }\n",
    "\"-\"\t{ return SUB; }\n",
    "\"*\"\t{ return MUL; }\n",
    "\"/\"\t{ return DIV; }\n",
    "\"|\"     { return ABS; }\n",
    "[0-9]+\t{ yylval = atoi(yytext); return NUMBER; } \n",
    "\\n      { return EOL; }\n",
    "[ \\t]   { /* ignore white space */ }\n",
    ".\t{ printf(\"Mystery character %c\\n\", *yytext); }\n",
    "%%\n",
    "/* atoi(yytext) is likely used within a Flex|lexer to convert the matched text into an actual integer value.*/\n",
    "\n",
    "int main()\n",
    "{\n",
    "  int tok;  // going through all the tokens\n",
    "  while(tok = yylex())\n",
    "  {\n",
    "    printf(\"%d\", tok);\n",
    "    //print the enum or the rule of the token\n",
    "    if(tok == NUMBER) \n",
    "        printf(\" = %d\\n\", yylval);\n",
    "          //print the number with enum\n",
    "    else \n",
    "        printf(\"\\n\");\n",
    "  }\n",
    "  return 0;\n",
    "}"
   ]
  },
  {
   "cell_type": "code",
   "execution_count": 94,
   "id": "54d0f728",
   "metadata": {},
   "outputs": [
    {
     "name": "stderr",
     "output_type": "stream",
     "text": [
      "ch1-4.l:35:13: warning: using the result of an assignment as a condition without parentheses [-Wparentheses]\n",
      "  while(tok = yylex())\n",
      "        ~~~~^~~~~~~~~\n",
      "ch1-4.l:35:13: note: place parentheses around the assignment to silence this warning\n",
      "  while(tok = yylex())\n",
      "            ^\n",
      "        (            )\n",
      "ch1-4.l:35:13: note: use '==' to turn this assignment into an equality comparison\n",
      "  while(tok = yylex())\n",
      "            ^\n",
      "            ==\n",
      "1 warning generated.\n",
      "ld: warning: object file (/Library/Developer/CommandLineTools/SDKs/MacOSX14.2.sdk/usr/lib/libl.a[arm64][3](libyywrap.o)) was built for newer 'macOS' version (14.2) than being linked (14.0)\n"
     ]
    }
   ],
   "source": [
    "%%bash\n",
    "flex ch1-4.l\n",
    "gcc lex.yy.c -ll "
   ]
  },
  {
   "cell_type": "code",
   "execution_count": 95,
   "id": "fc8b9eb1",
   "metadata": {},
   "outputs": [
    {
     "name": "stdout",
     "output_type": "stream",
     "text": [
      "Mystery character a\n",
      "262\n",
      "258 = 34\n",
      "259\n",
      "263\n",
      "258 = 45\n",
      "264\n"
     ]
    }
   ],
   "source": [
    "%%bash\n",
    "./a.out\n",
    "a / 34 + |45"
   ]
  },
  {
   "cell_type": "markdown",
   "id": "598530b2",
   "metadata": {},
   "source": [
    "### Calculater implementation"
   ]
  },
  {
   "cell_type": "code",
   "execution_count": 1,
   "id": "f37036e7",
   "metadata": {},
   "outputs": [
    {
     "name": "stdout",
     "output_type": "stream",
     "text": [
      "Overwriting ch1-5.l\n"
     ]
    }
   ],
   "source": [
    "%%file ch1-5.l\n",
    "\n",
    "/* recognize tokens for the calculator and print them out */\n",
    "\n",
    "%{\n",
    "# include \"ch1-5.tab.h\"\n",
    "%}\n",
    "\n",
    "%%\n",
    "\"+\"\t{ return ADD; }\n",
    "\"-\"\t{ return SUB; }\n",
    "\"*\"\t{ return MUL; }\n",
    "\"/\"\t{ return DIV; }\n",
    "\"|\"     { return ABS; }\n",
    "\"(\"     { return OP; }\n",
    "\")\"     { return CP; }\n",
    "[0-9]+\t{ yylval = atoi(yytext); return NUMBER; }\n",
    "\\n      { return EOL; }\n",
    "\"//\".*  \n",
    "[ \\t]   { /* ignore white space */ }\n",
    "%%"
   ]
  },
  {
   "cell_type": "code",
   "execution_count": 2,
   "id": "0ef56133",
   "metadata": {},
   "outputs": [
    {
     "name": "stdout",
     "output_type": "stream",
     "text": [
      "Overwriting ch1-5.y\n"
     ]
    }
   ],
   "source": [
    "%%file ch1-5.y\n",
    "\n",
    "/* Implement parser using Bison rules/gammar */\n",
    "\n",
    "%{\n",
    "   #include <stdio.h>\n",
    "   void yyerror(const char* msg) {\n",
    "      fprintf(stderr, \"%s\\n\", msg);\n",
    "   }\n",
    "   int yylex();\n",
    "%}\n",
    "\n",
    "/* declare tokens */\n",
    "%token NUMBER\n",
    "%token ADD SUB MUL DIV ABS\n",
    "%token OP CP\n",
    "%token EOL\n",
    "\n",
    "\n",
    "%%\n",
    "\n",
    "calclist: /* nothing */\n",
    " | calclist exp EOL { printf(\"= %d\\n> \", $2); }\n",
    " ;\n",
    "\n",
    "exp: factor\n",
    " | exp ADD exp { $$ = $1 + $3; }\n",
    " | exp SUB factor { $$ = $1 - $3; }\n",
    " | exp ABS factor { $$ = $1 | $3; }\n",
    " ;\n",
    "\n",
    "factor: term\n",
    " | factor MUL term { $$ = $1 * $3; }\n",
    " | factor DIV term { $$ = $1 / $3; }\n",
    " ;\n",
    "\n",
    "term: NUMBER\n",
    " | ABS term { $$ = $2 >= 0? $2 : - $2; }\n",
    " | OP exp CP { $$ = $2; }\n",
    " ;\n",
    "%%\n",
    "\n",
    "int main()\n",
    "{\n",
    "  printf(\"> \"); \n",
    "  yyparse();\n",
    "  return 0;\n",
    "}"
   ]
  },
  {
   "cell_type": "code",
   "execution_count": 3,
   "id": "5543df65",
   "metadata": {},
   "outputs": [
    {
     "name": "stderr",
     "output_type": "stream",
     "text": [
      "ch1-5.y: conflicts: 3 shift/reduce\n",
      "ld: warning: object file (/Library/Developer/CommandLineTools/SDKs/MacOSX14.2.sdk/usr/lib/libl.a[arm64][3](libyywrap.o)) was built for newer 'macOS' version (14.2) than being linked (14.0)\n"
     ]
    }
   ],
   "source": [
    "%%bash \n",
    "\n",
    "bison -d ch1-5.y\n",
    "flex ch1-5.l\n",
    "gcc -o ch1-5 ch1-5.tab.c lex.yy.c -ll"
   ]
  },
  {
   "cell_type": "code",
   "execution_count": 4,
   "id": "61f8ffb3",
   "metadata": {},
   "outputs": [
    {
     "name": "stdout",
     "output_type": "stream",
     "text": [
      "> = -1\n",
      "> "
     ]
    }
   ],
   "source": [
    "%%bash\n",
    "./ch1-5\n",
    "5 - 6"
   ]
  },
  {
   "cell_type": "code",
   "execution_count": null,
   "id": "1fe174a5",
   "metadata": {},
   "outputs": [],
   "source": []
  },
  {
   "cell_type": "code",
   "execution_count": null,
   "id": "6fc9a7e5",
   "metadata": {},
   "outputs": [],
   "source": []
  }
 ],
 "metadata": {
  "kernelspec": {
   "display_name": "Python 3 (ipykernel)",
   "language": "python",
   "name": "python3"
  },
  "language_info": {
   "codemirror_mode": {
    "name": "ipython",
    "version": 3
   },
   "file_extension": ".py",
   "mimetype": "text/x-python",
   "name": "python",
   "nbconvert_exporter": "python",
   "pygments_lexer": "ipython3",
   "version": "3.9.13"
  }
 },
 "nbformat": 4,
 "nbformat_minor": 5
}
