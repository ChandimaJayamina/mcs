{
 "cells": [
  {
   "cell_type": "markdown",
   "id": "8357aa3f",
   "metadata": {},
   "source": [
    "### Task 1 – Recognise a Special String Label <br>\n",
    "Pattern Description: Write Flex rules (regular expressions) that matches identifiers which can start\n",
    "only with an uppercase letter or *(Asterisk) and can contain letters, digits, or underscores thereafter.\n",
    "Compatible input strings that should be recognised by the scanner: Name23, *aGe9_\n",
    "Incompatible input strings that should be rejected by the scanner: 54Saman, saman54"
   ]
  },
  {
   "cell_type": "markdown",
   "id": "3cd4d08c",
   "metadata": {},
   "source": [
    "### Answer <br>\n",
    "Regex Pattern Creates based on\n",
    "<li> Word should start with Uppercase letter or Star mark -> [A-Z|*] </li>\n",
    "<li> After that it can only have uppercase or lowercase letter, digit, underscore only -> [a-zA-Z0-9_]+ </li>"
   ]
  },
  {
   "cell_type": "code",
   "execution_count": 1,
   "id": "a8b33483",
   "metadata": {},
   "outputs": [
    {
     "name": "stdout",
     "output_type": "stream",
     "text": [
      "Overwriting task-1.l\n"
     ]
    }
   ],
   "source": [
    "%%file task-1.l\n",
    "\n",
    "/* regex capture */\n",
    "\n",
    "%%\n",
    "^[A-Z|*][a-zA-Z0-9_]+ {printf(\"%s\", yytext);}\n",
    ". {}\n",
    "%%\n",
    "\n",
    "int main(void)\n",
    "{\n",
    "    yylex();\n",
    "    return 0;\n",
    "}"
   ]
  },
  {
   "cell_type": "code",
   "execution_count": 2,
   "id": "a973a1c6",
   "metadata": {},
   "outputs": [
    {
     "name": "stderr",
     "output_type": "stream",
     "text": [
      "ld: warning: object file (/Library/Developer/CommandLineTools/SDKs/MacOSX14.2.sdk/usr/lib/libl.a[arm64][3](libyywrap.o)) was built for newer 'macOS' version (14.2) than being linked (14.0)\n"
     ]
    }
   ],
   "source": [
    "%%bash\n",
    "flex task-1.l\n",
    "gcc lex.yy.c -ll"
   ]
  },
  {
   "cell_type": "code",
   "execution_count": 3,
   "id": "3d8c6e6c",
   "metadata": {},
   "outputs": [
    {
     "name": "stdout",
     "output_type": "stream",
     "text": [
      "Name23\n",
      "*aGe9_\n",
      "\n",
      "\n",
      "AnimLal12_3\n",
      "*animal\n",
      "\n",
      "Sddd_\n",
      "\n",
      "\n"
     ]
    }
   ],
   "source": [
    "%%bash\n",
    "./a.out\n",
    "Name23\n",
    "*aGe9_ \n",
    "54Saman\n",
    "saman54\n",
    "AnimLal12_3 \n",
    "*animal \n",
    "_sdsfs \n",
    "Sddd_ \n",
    "_sdfdf \n",
    "1223Saa"
   ]
  },
  {
   "cell_type": "markdown",
   "id": "5327f18c",
   "metadata": {},
   "source": [
    "================================================================================================"
   ]
  },
  {
   "cell_type": "markdown",
   "id": "d468273f",
   "metadata": {},
   "source": [
    "### Task 2 – Recognise signed floating point numbers <br>\n",
    "Pattern Description: Write Flex rules (regular expressions) that matches and captures floating point\n",
    "numbers with a negative or positive sign at the start. The sign is mandatory.\n",
    "Compatible input strings that should be recognised by the scanner: +9.81, -456.98\n",
    "Incompatible input strings that should be rejected by the scanner: 456.45, +56.34.22"
   ]
  },
  {
   "cell_type": "markdown",
   "id": "07bb5019",
   "metadata": {},
   "source": [
    "### Answer <br>\n",
    "Regex Pattern Creates based on\n",
    "<li> floating point number should start with + or - -> [+|-] </li>\n",
    "<li> After that it can have digits and decimal point and again numbers -> [0-9]+[.][0-9]+ </li>\n",
    "<li> After that it should end without any other characters -> \\n </li>"
   ]
  },
  {
   "cell_type": "code",
   "execution_count": 4,
   "id": "01fb1327",
   "metadata": {},
   "outputs": [
    {
     "name": "stdout",
     "output_type": "stream",
     "text": [
      "Overwriting task-2.l\n"
     ]
    }
   ],
   "source": [
    "%%file task-2.l\n",
    "\n",
    "/* regex capture */\n",
    "\n",
    "%%\n",
    "[+|-][0-9]+[.][0-9]+\\n {printf(\"%s\", yytext);}\n",
    ". {}\n",
    "%%\n",
    "\n",
    "int main(void)\n",
    "{\n",
    "    yylex();\n",
    "    return 0;\n",
    "}"
   ]
  },
  {
   "cell_type": "code",
   "execution_count": 5,
   "id": "b4828f47",
   "metadata": {},
   "outputs": [
    {
     "name": "stderr",
     "output_type": "stream",
     "text": [
      "ld: warning: object file (/Library/Developer/CommandLineTools/SDKs/MacOSX14.2.sdk/usr/lib/libl.a[arm64][3](libyywrap.o)) was built for newer 'macOS' version (14.2) than being linked (14.0)\n"
     ]
    }
   ],
   "source": [
    "%%bash\n",
    "flex task-2.l\n",
    "gcc lex.yy.c -ll"
   ]
  },
  {
   "cell_type": "code",
   "execution_count": 6,
   "id": "7f8b7357",
   "metadata": {},
   "outputs": [
    {
     "name": "stdout",
     "output_type": "stream",
     "text": [
      "+9.81\n",
      "-456.98\n",
      "\n",
      "\n"
     ]
    }
   ],
   "source": [
    "%%bash\n",
    "./a.out\n",
    "+9.81\n",
    "-456.98\n",
    "456.45\n",
    "+56.34.22"
   ]
  },
  {
   "cell_type": "markdown",
   "id": "90733ef3",
   "metadata": {},
   "source": [
    "============================================================================================="
   ]
  },
  {
   "cell_type": "markdown",
   "id": "8fb246f3",
   "metadata": {},
   "source": [
    "### Task 3 – Recognise single and multi-line comments <br>\n",
    "<p>\n",
    "Pattern Description: Write a regular expression that matches single line comments (// ....) and <br>\n",
    "multiline comments (/*.. */) in a language similar to C.<br>\n",
    "Compatible input strings that should be recognised by the scanner: <br>\n",
    "// This is a comment <br>\n",
    "/* This is a multi line comment */ <br>\n",
    "Incompatible input strings that should be rejected by the scanner: <br>\n",
    "/ This is a wrong single line <br>\n",
    "/* this is a wrong multiline comment // <br>"
   ]
  },
  {
   "cell_type": "markdown",
   "id": "32a1edf0",
   "metadata": {},
   "source": [
    "### Answer <br>\n",
    "Regex Pattern Creates based on\n",
    "<li> Single line comment starts with // and any characters and spaces -> ^[\\/][\\/][ A-Za-z0-9]+ </li>\n",
    "<li> multiline comment start with /* anything */ -> ^[\\/][\\*][A-Za-z0-9 ]+[\\*][\\/]  </li>\n",
    "<li> multiline should start with /* and should end */ if not does not match </li>"
   ]
  },
  {
   "cell_type": "code",
   "execution_count": 7,
   "id": "188680bf",
   "metadata": {},
   "outputs": [
    {
     "name": "stdout",
     "output_type": "stream",
     "text": [
      "Overwriting task-3.l\n"
     ]
    }
   ],
   "source": [
    "%%file task-3.l\n",
    "\n",
    "/* regex capture */\n",
    "\n",
    "%%\n",
    "^[\\/][\\/][ A-Za-z0-9]+ {printf(\"%s\", yytext);}\n",
    "^[\\/][\\*][A-Za-z0-9 ]+[\\*][\\/] {printf(\"%s\", yytext);}\n",
    ". {}\n",
    "%%\n",
    "\n",
    "int main(void)\n",
    "{\n",
    "    yylex();\n",
    "    return 0;\n",
    "}"
   ]
  },
  {
   "cell_type": "code",
   "execution_count": 8,
   "id": "c0c3566f",
   "metadata": {},
   "outputs": [
    {
     "name": "stderr",
     "output_type": "stream",
     "text": [
      "ld: warning: object file (/Library/Developer/CommandLineTools/SDKs/MacOSX14.2.sdk/usr/lib/libl.a[arm64][3](libyywrap.o)) was built for newer 'macOS' version (14.2) than being linked (14.0)\n"
     ]
    }
   ],
   "source": [
    "%%bash\n",
    "flex task-3.l\n",
    "gcc lex.yy.c -ll"
   ]
  },
  {
   "cell_type": "code",
   "execution_count": 9,
   "id": "dd257823",
   "metadata": {
    "scrolled": true
   },
   "outputs": [
    {
     "name": "stdout",
     "output_type": "stream",
     "text": [
      "// This is a comment\n",
      "/* This is a multi line comment */\n",
      "\n",
      "\n",
      "\n"
     ]
    }
   ],
   "source": [
    "%%bash\n",
    "./a.out\n",
    "// This is a comment\n",
    "/* This is a multi line comment */\n",
    "Incompatible input strings that should be rejected by the scanner:\n",
    "/ This is a wrong single line\n",
    "/* this is a wrong multiline comment //"
   ]
  },
  {
   "cell_type": "markdown",
   "id": "3b759709",
   "metadata": {},
   "source": [
    "======================================================================================="
   ]
  },
  {
   "cell_type": "markdown",
   "id": "fcb4e0e8",
   "metadata": {},
   "source": [
    "### Task 4 – Recognise email addresses <br>\n",
    "<p>\n",
    "Pattern Description: Write a Flex rule that matches valid email addresses consisting of a username, an <br>\n",
    "\"@\" symbol, and a domain name. The username can contain letters, digits, underscores, dots, and <br>\n",
    "hyphens. The domain name can contain letters, digits, and hyphens. <br>\n",
    "Compatible input strings that should be recognised by the scanner: <br>\n",
    "nicola.tesla@dcelectic.com <br>\n",
    "nicola_tesla@dc-electic.com <br>\n",
    "nicola.tesla1856@dc-electic.com <br>\n",
    "Incompatible input strings that should be rejected by the scanner: <br> \n",
    "nicola.tesla1856@dc*electic.com <br>"
   ]
  },
  {
   "cell_type": "markdown",
   "id": "9a8e3b72",
   "metadata": {},
   "source": [
    "### Answer <br>\n",
    "Regex Pattern Creates based on\n",
    "<li> email username letters,digits,_,.,- -> ^[A-Za-z0-9_.-]+ </li>\n",
    "<li> domain name letters,digits,- -> [A-Za-z0-9-]+  </li>\n",
    "<li> ends with .com -> .com </li>\n",
    "<li> all above username@domain.com is the email </li>"
   ]
  },
  {
   "cell_type": "code",
   "execution_count": 10,
   "id": "13f82e5d",
   "metadata": {},
   "outputs": [
    {
     "name": "stdout",
     "output_type": "stream",
     "text": [
      "Overwriting task-4.l\n"
     ]
    }
   ],
   "source": [
    "%%file task-4.l\n",
    "\n",
    "/* regex capture */\n",
    "\n",
    "%%\n",
    "^[A-Za-z0-9_.-]+@[A-Za-z0-9-]+.com {printf(\"%s\", yytext);}\n",
    ". {}\n",
    "%%\n",
    "\n",
    "int main(void)\n",
    "{\n",
    "    yylex();\n",
    "    return 0;\n",
    "}"
   ]
  },
  {
   "cell_type": "code",
   "execution_count": 11,
   "id": "3423243f",
   "metadata": {},
   "outputs": [
    {
     "name": "stderr",
     "output_type": "stream",
     "text": [
      "ld: warning: object file (/Library/Developer/CommandLineTools/SDKs/MacOSX14.2.sdk/usr/lib/libl.a[arm64][3](libyywrap.o)) was built for newer 'macOS' version (14.2) than being linked (14.0)\n"
     ]
    }
   ],
   "source": [
    "%%bash\n",
    "flex task-4.l\n",
    "gcc lex.yy.c -ll"
   ]
  },
  {
   "cell_type": "code",
   "execution_count": 12,
   "id": "d1226688",
   "metadata": {
    "scrolled": true
   },
   "outputs": [
    {
     "name": "stdout",
     "output_type": "stream",
     "text": [
      "nicola.tesla@dcelectic.com\n",
      "nicola_tesla@dc-electic.com\n",
      "nicola.tesla1856@dc-electic.com\n",
      "\n",
      "\n"
     ]
    }
   ],
   "source": [
    "%%bash\n",
    "./a.out\n",
    "nicola.tesla@dcelectic.com\n",
    "nicola_tesla@dc-electic.com\n",
    "nicola.tesla1856@dc-electic.com\n",
    "nicola.tesl*a1856@dcelectic.com\n",
    "nicola.tesla1856@dc*electic.com"
   ]
  },
  {
   "cell_type": "code",
   "execution_count": null,
   "id": "5f71e65b",
   "metadata": {},
   "outputs": [],
   "source": []
  },
  {
   "cell_type": "markdown",
   "id": "b8a510cc",
   "metadata": {},
   "source": [
    "===================================================================================================="
   ]
  },
  {
   "cell_type": "markdown",
   "id": "f39afc7c",
   "metadata": {},
   "source": [
    "### Task 5 – Recognise Hexadecimal Numbers <br>\n",
    "<p>\n",
    "Pattern Description: Write a Flex rule that matches hexadecimal numbers starting with \"0x\" or \"0X\" <br>\n",
    "and followed by a sequence of hexadecimal digits (0-9, A-F, a-f). <br>\n",
    "Compatible input strings that should be recognised by the scanner: 0X3F, 0Xaf, 0x13, 0x9ADF <br>\n",
    "Incompatible input strings that should be rejected by the scanner: 0X0GAf, 0x87AZ <br>"
   ]
  },
  {
   "cell_type": "markdown",
   "id": "6327fb30",
   "metadata": {},
   "source": [
    "### Answer <br>\n",
    "Regex Pattern Creates based on\n",
    "<li> hexadecimal number start with -> ^[0x|0X] </li>\n",
    "<li> followed by 0-9,A-F,a-f -> [0-9A-Fa-f]+  </li>"
   ]
  },
  {
   "cell_type": "code",
   "execution_count": 13,
   "id": "c0d42e0c",
   "metadata": {},
   "outputs": [
    {
     "name": "stdout",
     "output_type": "stream",
     "text": [
      "Overwriting task-5.l\n"
     ]
    }
   ],
   "source": [
    "%%file task-5.l\n",
    "\n",
    "/* regex capture */\n",
    "\n",
    "%%\n",
    "^0[x|X][0-9A-Fa-f]+\\n {printf(\"%s\", yytext);}\n",
    ". {}\n",
    "%%\n",
    "\n",
    "int main(void)\n",
    "{\n",
    "    yylex();\n",
    "    return 0;\n",
    "}"
   ]
  },
  {
   "cell_type": "code",
   "execution_count": 14,
   "id": "6f34721e",
   "metadata": {},
   "outputs": [
    {
     "name": "stderr",
     "output_type": "stream",
     "text": [
      "ld: warning: object file (/Library/Developer/CommandLineTools/SDKs/MacOSX14.2.sdk/usr/lib/libl.a[arm64][3](libyywrap.o)) was built for newer 'macOS' version (14.2) than being linked (14.0)\n"
     ]
    }
   ],
   "source": [
    "%%bash\n",
    "flex task-5.l\n",
    "gcc lex.yy.c -ll"
   ]
  },
  {
   "cell_type": "code",
   "execution_count": 15,
   "id": "50d295b5",
   "metadata": {
    "scrolled": true
   },
   "outputs": [
    {
     "name": "stdout",
     "output_type": "stream",
     "text": [
      "0X3F\n",
      "0Xaf\n",
      "0x13\n",
      "0x9ADF\n",
      "\n",
      "\n"
     ]
    }
   ],
   "source": [
    "%%bash\n",
    "./a.out\n",
    "0X3F\n",
    "0Xaf\n",
    "0x13\n",
    "0x9ADF\n",
    "0X0GAf\n",
    "0x87AZ"
   ]
  },
  {
   "cell_type": "code",
   "execution_count": null,
   "id": "45c026c6",
   "metadata": {},
   "outputs": [],
   "source": []
  },
  {
   "cell_type": "markdown",
   "id": "33b56184",
   "metadata": {},
   "source": [
    "====================================================================================================="
   ]
  },
  {
   "cell_type": "markdown",
   "id": "179a1e0c",
   "metadata": {},
   "source": [
    "### Task 6 – Recognise Date Formats <br>\n",
    "<p>\n",
    "Pattern Description: Write a Flex rule that identifies dates in the following two formats. DD-MM-YYYY <br>\n",
    "(e.g., 26-04-2024) <br>\n",
    "Positive input strings that should be recognised by the scanner: <br>\n",
    "16-06-1970 <br>\n",
    "31-12-1999 <br>\n",
    "01-12-0999 <br>\n",
    "Incompatible input strings that should be rejected by the scanner: <br>\n",
    "01-13-2000 <br>\n",
    "01-00-2000 <br>\n",
    "00-12-2000 <br>\n",
    "32-12-2000 <br>"
   ]
  },
  {
   "cell_type": "markdown",
   "id": "3102600a",
   "metadata": {},
   "source": [
    "### Answer <br>\n",
    "Regex Pattern Creates based on\n",
    "<li> date 01-09 month 01-09 -> ^0[1-9]-0[1-9]-[0-9]{4} </li>\n",
    "<li> date 10-29 month 01-09 -> ^[1-2][0-9]-0[1-9]-[0-9]{4} </li>\n",
    "<li> date 01-09 month 10,11,12 -> ^0[1-9]-1[0-2]-[0-9]{4} </li>\n",
    "<li> date 10-29 month 10,11,12 -> ^[1-2][0-9]-1[0-2]-[0-9]{4} </li>\n",
    "<li> all months have 30 days</li>\n",
    "<li> date 30 month 02,04,06,09 -> ^30-0[1-9]-[0-9]{4} </li>\n",
    "<li> date 30 month 11-> ^30-1[0-2]-[0-9]{4} </li>\n",
    "<li> months 01,03,05,07,08,10,12 have 31 days</li>\n",
    "<li> date 31 month 01,03,05,07,08 -> ^31-0[13578]-[0-9]{4} </li>\n",
    "<li> date 31 month 10,12 -> ^31-1[02]-[0-9]{4} </li>\n",
    "\n",
    "### Assumptions <br>\n",
    "In here date range in february is not considered \n",
    "<br>"
   ]
  },
  {
   "cell_type": "code",
   "execution_count": 16,
   "id": "11097bdc",
   "metadata": {},
   "outputs": [
    {
     "name": "stdout",
     "output_type": "stream",
     "text": [
      "Overwriting task-6.l\n"
     ]
    }
   ],
   "source": [
    "%%file task-6.l\n",
    "\n",
    "/* regex capture */\n",
    "\n",
    "%%\n",
    "^0[1-9]-0[1-9]-[0-9]{4} {printf(\"%s\", yytext);}\n",
    "^[1-2][0-9]-0[1-9]-[0-9]{4} {printf(\"%s\", yytext);}\n",
    "^0[1-9]-1[0-2]-[0-9]{4} {printf(\"%s\", yytext);}\n",
    "^[1-2][0-9]-1[0-2]-[0-9]{4} {printf(\"%s\", yytext);}\n",
    "^30-0[1-9]-[0-9]{4} {printf(\"%s\", yytext);}\n",
    "^30-1[0-2]-[0-9]{4} {printf(\"%s\", yytext);}\n",
    "^31-0[13578]-[0-9]{4} {printf(\"%s\", yytext);}\n",
    "^31-1[02]-[0-9]{4} {printf(\"%s\", yytext);}\n",
    "\n",
    ". {}\n",
    "%%\n",
    "\n",
    "int main(void)\n",
    "{\n",
    "    yylex();\n",
    "    return 0;\n",
    "}"
   ]
  },
  {
   "cell_type": "code",
   "execution_count": 17,
   "id": "84af9bfd",
   "metadata": {},
   "outputs": [
    {
     "name": "stderr",
     "output_type": "stream",
     "text": [
      "ld: warning: object file (/Library/Developer/CommandLineTools/SDKs/MacOSX14.2.sdk/usr/lib/libl.a[arm64][3](libyywrap.o)) was built for newer 'macOS' version (14.2) than being linked (14.0)\n"
     ]
    }
   ],
   "source": [
    "%%bash\n",
    "flex task-6.l\n",
    "gcc lex.yy.c -ll"
   ]
  },
  {
   "cell_type": "code",
   "execution_count": 18,
   "id": "05247562",
   "metadata": {
    "scrolled": true
   },
   "outputs": [
    {
     "name": "stdout",
     "output_type": "stream",
     "text": [
      "16-06-1970\n",
      "31-12-1999\n",
      "01-12-0999\n",
      "\n",
      "\n",
      "\n",
      "\n",
      "\n",
      "\n"
     ]
    }
   ],
   "source": [
    "%%bash\n",
    "./a.out\n",
    "16-06-1970\n",
    "31-12-1999\n",
    "01-12-0999\n",
    "Incompatible input strings that should be rejected by the scanner:\n",
    "01-13-2000\n",
    "31-02-1999\n",
    "01-00-2000\n",
    "00-12-2000\n",
    "32-12-2000"
   ]
  },
  {
   "cell_type": "code",
   "execution_count": null,
   "id": "435c7cec",
   "metadata": {},
   "outputs": [],
   "source": []
  },
  {
   "cell_type": "markdown",
   "id": "37e09a5f",
   "metadata": {},
   "source": [
    "======================================================================================================="
   ]
  },
  {
   "cell_type": "markdown",
   "id": "af378d4f",
   "metadata": {},
   "source": [
    "### Task 7 – Recognise HTML formats <br>\n",
    "<p>\n",
    "Pattern Description: Write Flex rules to identify and capture HTML opening and closing tags with <br>\n",
    "attributes. <br>\n",
    "Compatible input strings that should be recognised by the scanner: <br>"
   ]
  },
  {
   "attachments": {
    "Screenshot%202024-05-16%20at%2019.55.28.png": {
     "image/png": "[encoded data removed]"
    }
   },
   "cell_type": "markdown",
   "id": "a8603503",
   "metadata": {},
   "source": [
    "![Screenshot%202024-05-16%20at%2019.55.28.png](attachment:Screenshot%202024-05-16%20at%2019.55.28.png)"
   ]
  },
  {
   "cell_type": "code",
   "execution_count": null,
   "id": "fc3a8874",
   "metadata": {},
   "outputs": [],
   "source": []
  },
  {
   "cell_type": "code",
   "execution_count": null,
   "id": "d4c59a38",
   "metadata": {},
   "outputs": [],
   "source": []
  },
  {
   "cell_type": "markdown",
   "id": "4895f345",
   "metadata": {},
   "source": [
    "================================================================================================"
   ]
  },
  {
   "cell_type": "markdown",
   "id": "6a964467",
   "metadata": {},
   "source": [
    "### Task 8– Recognise URLs <br>\n",
    "<p>\n",
    "Pattern Description: Write a Flex rule that matches protocol (http, https), domain name and optional <br>\n",
    "port number, and path. <br>\n",
    "Compatible input strings that should be recognised by the scanner: <br>\n",
    "http://google.com <br>\n",
    "https://google.com:6060 <br>\n",
    "https://google.com:6060/gemini <br>"
   ]
  },
  {
   "cell_type": "markdown",
   "id": "056cf136",
   "metadata": {},
   "source": [
    "### Answer <br>\n",
    "Regex Pattern Creates based on\n",
    "<li> http or https -> ^http[s]? </li>\n",
    "<li> domain name can have letters,digits,hypen,period -> [A-Za-z0-9-.]+ </li>\n",
    "<li> ends .com -> .com\\n </li>\n",
    "<li> * extends with port number *  ->  :[0-9]+\\n </li>\n",
    "<li> * extends with port number and path * -> :[0-9]+\\/[A-Za-z0-9]+\\n </li> \n",
    "\n",
    "Assumptions\n",
    "<li> port number can have only numbers </li>\n",
    "<li> path can have only one / and lettersandnumber </li>\n",
    "\n",
    "\n"
   ]
  },
  {
   "cell_type": "code",
   "execution_count": 19,
   "id": "5432a8d9",
   "metadata": {},
   "outputs": [
    {
     "name": "stdout",
     "output_type": "stream",
     "text": [
      "Overwriting task-8.l\n"
     ]
    }
   ],
   "source": [
    "%%file task-8.l\n",
    "\n",
    "/* regex capture */\n",
    "\n",
    "%%\n",
    "^http[s]?:\\/\\/[a-z]+.com\\n {printf(\"%s\", yytext);}\n",
    "^http[s]?:\\/\\/[a-z]+.com:[0-9]+\\n {printf(\"%s\", yytext);}\n",
    "^http[s]?:\\/\\/[a-z]+.com:[0-9]+\\/[A-Za-z0-9]+\\n {printf(\"%s\", yytext);}\n",
    ". {}\n",
    "%%\n",
    "\n",
    "int main(void)\n",
    "{\n",
    "    yylex();\n",
    "    return 0;\n",
    "}"
   ]
  },
  {
   "cell_type": "code",
   "execution_count": 20,
   "id": "049b6f6d",
   "metadata": {},
   "outputs": [
    {
     "name": "stderr",
     "output_type": "stream",
     "text": [
      "ld: warning: object file (/Library/Developer/CommandLineTools/SDKs/MacOSX14.2.sdk/usr/lib/libl.a[arm64][3](libyywrap.o)) was built for newer 'macOS' version (14.2) than being linked (14.0)\n"
     ]
    }
   ],
   "source": [
    "%%bash\n",
    "flex task-8.l\n",
    "gcc lex.yy.c -ll"
   ]
  },
  {
   "cell_type": "code",
   "execution_count": 21,
   "id": "81ed8e10",
   "metadata": {
    "scrolled": true
   },
   "outputs": [
    {
     "name": "stdout",
     "output_type": "stream",
     "text": [
      "http://google.com\n",
      "https://google.com:6060\n",
      "https://google.com:6060/gemini\n",
      "\n"
     ]
    }
   ],
   "source": [
    "%%bash\n",
    "./a.out\n",
    "http://google.com\n",
    "https://google.com:6060\n",
    "https://google.com:6060/gemini\n",
    "httpv://google.com:6060/gemini"
   ]
  },
  {
   "cell_type": "code",
   "execution_count": null,
   "id": "59702f65",
   "metadata": {},
   "outputs": [],
   "source": []
  },
  {
   "cell_type": "code",
   "execution_count": null,
   "id": "ea3d205b",
   "metadata": {},
   "outputs": [],
   "source": []
  },
  {
   "cell_type": "code",
   "execution_count": null,
   "id": "fc237933",
   "metadata": {},
   "outputs": [],
   "source": []
  }
 ],
 "metadata": {
  "kernelspec": {
   "display_name": "Python 3 (ipykernel)",
   "language": "python",
   "name": "python3"
  },
  "language_info": {
   "codemirror_mode": {
    "name": "ipython",
    "version": 3
   },
   "file_extension": ".py",
   "mimetype": "text/x-python",
   "name": "python",
   "nbconvert_exporter": "python",
   "pygments_lexer": "ipython3",
   "version": "3.9.13"
  }
 },
 "nbformat": 4,
 "nbformat_minor": 5
}
