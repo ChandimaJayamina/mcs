{
 "cells": [
  {
   "cell_type": "markdown",
   "id": "6a8b67e5-c3f4-4bdd-adf9-a56aea5dded7",
   "metadata": {},
   "source": [
    "## Set up the enviroment - Flex and Bison\n",
    "- Install Python\n",
    "- Setup Jupyter Lab/Notes)\n",
    "- If not on a Unix-ish platform (Unix, Linux, BSD, etc), install a unix shell for bash commands to work\n",
    "- Install gcc (gnu c compiler) or any other C compiler that works in your platform\n",
    "- Install Flex (e.g. pip install flex)\n",
    "- Install Bison (e.g. pip install bison)"
   ]
  },
  {
   "cell_type": "markdown",
   "id": "1d8c0def-dafe-41dd-aa7c-9034cedc7470",
   "metadata": {},
   "source": [
    "## (1) Word counting example"
   ]
  },
  {
   "cell_type": "code",
   "execution_count": 1,
   "id": "6bba19b2-caf5-4921-8469-3f881ddfdd5d",
   "metadata": {},
   "outputs": [
    {
     "name": "stdout",
     "output_type": "stream",
     "text": [
      "Writing ch1-1.l\n"
     ]
    }
   ],
   "source": [
    "%%file ch1-1.l\n",
    "\n",
    "/* ch1-1.l just like unix wc */\n",
    "\n",
    "%{\n",
    "int chars = 0;\n",
    "int words = 0;\n",
    "int lines = 0;\n",
    "%}\n",
    "\n",
    "%%\n",
    "\n",
    "[^ \\t\\n\\r\\f\\v]+ { words++; chars += strlen(yytext); }\n",
    "\\n\t\t{ chars++; lines++; }\n",
    ".\t\t{ chars++; }\n",
    "\n",
    "%%\n",
    "\n",
    "int main(void)\n",
    "{\n",
    "    yylex();\n",
    "    printf(\"Lines:%3d\\nWords:%3d\\nChars:%3d\\n\", lines, words, chars);\n",
    "    return 0;\n",
    "}\n"
   ]
  },
  {
   "cell_type": "code",
   "execution_count": 2,
   "id": "cf813095-1999-4f2e-8cd7-fabe55ae17a6",
   "metadata": {},
   "outputs": [
    {
     "name": "stderr",
     "output_type": "stream",
     "text": [
      "ld: warning: object file (/Library/Developer/CommandLineTools/SDKs/MacOSX14.2.sdk/usr/lib/libl.a[arm64][3](libyywrap.o)) was built for newer 'macOS' version (14.2) than being linked (14.0)\n"
     ]
    }
   ],
   "source": [
    "%%bash\n",
    "flex ch1-1.l\n",
    "gcc lex.yy.c -ll"
   ]
  },
  {
   "cell_type": "code",
   "execution_count": 3,
   "id": "09660cb0-5981-461d-a1c6-e13a69a88254",
   "metadata": {},
   "outputs": [
    {
     "name": "stdout",
     "output_type": "stream",
     "text": [
      "Lines:  2\n",
      "Words:  7\n",
      "Chars: 42\n"
     ]
    }
   ],
   "source": [
    "%%bash\n",
    "./a.out\n",
    "non sine periculo\n",
    "tempus fugit carpe diem"
   ]
  },
  {
   "cell_type": "markdown",
   "id": "43ddff5f-49bb-4c34-a362-06518ceea3f2",
   "metadata": {},
   "source": [
    "## (2) Mapping some words from British to American english using Flex"
   ]
  },
  {
   "cell_type": "code",
   "execution_count": 4,
   "id": "bc6ea753-af3c-42ae-9702-2467c64b32c5",
   "metadata": {},
   "outputs": [
    {
     "name": "stdout",
     "output_type": "stream",
     "text": [
      "Writing ch1-2.l\n"
     ]
    }
   ],
   "source": [
    "%%file ch1-2.l\n",
    "\n",
    "%%\n",
    "\"colour\" { printf(\"color\"); }\n",
    "\"flavour\" { printf(\"flavor\"); }\n",
    "\"clever\" { printf(\"smart\"); }\n",
    "\"smart\" { printf(\"elegant\"); }\n",
    "\"liberal\" { printf(\"conservative\"); }\n",
    ". { printf(\"%s\", yytext); }\n",
    "%%\n",
    "\n",
    "int main(void)\n",
    "{\n",
    "    yylex();\n",
    "    return 0;\n",
    "}\n",
    "\n",
    "yywrap() { return 1; }\n"
   ]
  },
  {
   "cell_type": "code",
   "execution_count": 5,
   "id": "4aed5a82-2244-422d-b308-27d4642e5c39",
   "metadata": {},
   "outputs": [
    {
     "name": "stderr",
     "output_type": "stream",
     "text": [
      "ch1-2.l:17:1: warning: type specifier missing, defaults to 'int'; ISO C99 and later do not support implicit int [-Wimplicit-int]\n",
      "yywrap() { return 1; }\n",
      "^\n",
      "int\n",
      "1 warning generated.\n"
     ]
    }
   ],
   "source": [
    "%%bash\n",
    "flex ch1-2.l\n",
    "gcc lex.yy.c -ll "
   ]
  },
  {
   "cell_type": "code",
   "execution_count": 6,
   "id": "1bff35e9-c9b6-4def-8361-5ca69f001d43",
   "metadata": {},
   "outputs": [
    {
     "name": "stdout",
     "output_type": "stream",
     "text": [
      "conservative\n",
      "smart\n",
      "elegant\n"
     ]
    }
   ],
   "source": [
    "%%bash\n",
    "./a.out\n",
    "liberal\n",
    "clever\n",
    "smart"
   ]
  },
  {
   "cell_type": "markdown",
   "id": "a87678bf-c247-445b-bc85-847acaef0d03",
   "metadata": {},
   "source": [
    "## (3) Recognise tokens for the calculator and print them out - scanner -  Flex"
   ]
  },
  {
   "cell_type": "code",
   "execution_count": 7,
   "id": "f41c22b9-4a84-42ee-a5b7-0e7b7be9afef",
   "metadata": {},
   "outputs": [
    {
     "name": "stdout",
     "output_type": "stream",
     "text": [
      "Writing ch1-3.l\n"
     ]
    }
   ],
   "source": [
    "%%file ch1-3.l\n",
    "\n",
    "%%\n",
    "\"+\"\t{ printf(\"PLUS\\n\"); }\n",
    "\"-\"\t{ printf(\"MINUS\\n\"); }\n",
    "\"*\"\t{ printf(\"TIMES\\n\"); }\n",
    "\"/\"\t{ printf(\"DIVIDE\\n\"); }\n",
    "\"|\"     { printf(\"ABS\\n\"); }\n",
    "[0-9]+\t{ printf(\"NUMBER %s\\n\", yytext); }\n",
    "\\n      { printf(\"NEWLINE\\n\"); }\n",
    "[ \\t] { }\n",
    ".\t{ printf(\"Mystery character %s\\n\", yytext); }\n",
    "%%\n"
   ]
  },
  {
   "cell_type": "code",
   "execution_count": 8,
   "id": "be12413e-f28b-4a93-8c7e-c31f87101a9e",
   "metadata": {},
   "outputs": [
    {
     "name": "stderr",
     "output_type": "stream",
     "text": [
      "ld: warning: object file (/Library/Developer/CommandLineTools/SDKs/MacOSX14.2.sdk/usr/lib/libl.a[arm64][2](libmain.o)) was built for newer 'macOS' version (14.2) than being linked (14.0)\n",
      "ld: warning: object file (/Library/Developer/CommandLineTools/SDKs/MacOSX14.2.sdk/usr/lib/libl.a[arm64][3](libyywrap.o)) was built for newer 'macOS' version (14.2) than being linked (14.0)\n"
     ]
    }
   ],
   "source": [
    "%%bash\n",
    "flex ch1-3.l\n",
    "gcc lex.yy.c -ll "
   ]
  },
  {
   "cell_type": "code",
   "execution_count": 9,
   "id": "b73eb265-0bbf-4255-bdb7-4a26010b8af5",
   "metadata": {},
   "outputs": [
    {
     "name": "stdout",
     "output_type": "stream",
     "text": [
      "NUMBER 12\n",
      "PLUS\n",
      "NUMBER 34\n",
      "NEWLINE\n",
      "NUMBER 540\n",
      "MINUS\n",
      "NUMBER 267\n",
      "NEWLINE\n"
     ]
    }
   ],
   "source": [
    "%%bash\n",
    "./a.out\n",
    "12+34\n",
    "540 - 267"
   ]
  },
  {
   "cell_type": "markdown",
   "id": "d4a97926-a346-40eb-a0e4-e7f8bdf219e9",
   "metadata": {},
   "source": [
    "## (4) Recognize tokens for the calculator and print them out\n",
    "### Extending the scanner to map to a token identifier"
   ]
  },
  {
   "cell_type": "code",
   "execution_count": 10,
   "id": "45bb05c6-3978-400e-bb51-ef4108298e17",
   "metadata": {},
   "outputs": [
    {
     "name": "stdout",
     "output_type": "stream",
     "text": [
      "Writing ch1-4.l\n"
     ]
    }
   ],
   "source": [
    "%%file ch1-4.l\n",
    "\n",
    "\n",
    "%{\n",
    "   enum yytokentype {\n",
    "     NUMBER = 258,\n",
    "     ADD = 259,\n",
    "     SUB = 260,\n",
    "     MUL = 261,\n",
    "     DIV = 262,\n",
    "     ABS = 263,\n",
    "     EOL = 264 /* end of line */\n",
    "   };\n",
    "\n",
    "   int yylval;\n",
    "\n",
    "%}\n",
    "\n",
    "%%\n",
    "\n",
    "\"+\"\t{ return ADD; }\n",
    "\"-\"\t{ return SUB; }\n",
    "\"*\"\t{ return MUL; }\n",
    "\"/\"\t{ return DIV; }\n",
    "\"|\"     { return ABS; }\n",
    "[0-9]+\t{ yylval = atoi(yytext); return NUMBER; }\n",
    "\\n      { return EOL; }\n",
    "[ \\t]   { /* ignore white space */ }\n",
    ".\t{ printf(\"Mystery character %c\\n\", *yytext); }\n",
    "%%\n",
    "\n",
    "int main()\n",
    "{\n",
    "  int tok;\n",
    "\n",
    "  while(tok = yylex())\n",
    "  {\n",
    "    printf(\"%d\", tok);\n",
    "    \n",
    "    if(tok == NUMBER) \n",
    "        printf(\" = %d\\n\", yylval);\n",
    "    else \n",
    "        printf(\"\\n\");\n",
    "  }\n",
    "  return 0;\n",
    "}\n"
   ]
  },
  {
   "cell_type": "code",
   "execution_count": 11,
   "id": "00052228-6f94-4f6c-a20d-0d6502de869a",
   "metadata": {},
   "outputs": [
    {
     "name": "stderr",
     "output_type": "stream",
     "text": [
      "ch1-4.l:35:13: warning: using the result of an assignment as a condition without parentheses [-Wparentheses]\n",
      "  while(tok = yylex())\n",
      "        ~~~~^~~~~~~~~\n",
      "ch1-4.l:35:13: note: place parentheses around the assignment to silence this warning\n",
      "  while(tok = yylex())\n",
      "            ^\n",
      "        (            )\n",
      "ch1-4.l:35:13: note: use '==' to turn this assignment into an equality comparison\n",
      "  while(tok = yylex())\n",
      "            ^\n",
      "            ==\n",
      "1 warning generated.\n",
      "ld: warning: object file (/Library/Developer/CommandLineTools/SDKs/MacOSX14.2.sdk/usr/lib/libl.a[arm64][3](libyywrap.o)) was built for newer 'macOS' version (14.2) than being linked (14.0)\n"
     ]
    }
   ],
   "source": [
    "%%bash\n",
    "flex ch1-4.l\n",
    "gcc lex.yy.c -ll "
   ]
  },
  {
   "cell_type": "code",
   "execution_count": 12,
   "id": "8810c1ae-86f8-451c-8907-77797ea73cbe",
   "metadata": {},
   "outputs": [
    {
     "name": "stdout",
     "output_type": "stream",
     "text": [
      "Mystery character a\n",
      "262\n",
      "258 = 34\n",
      "259\n",
      "263\n",
      "258 = 45\n",
      "264\n"
     ]
    }
   ],
   "source": [
    "%%bash\n",
    "./a.out\n",
    "a / 34 + |45"
   ]
  },
  {
   "cell_type": "markdown",
   "id": "c06d5092-0db3-482c-9b50-dbc34aaf46ea",
   "metadata": {},
   "source": [
    "## (5) Calculator example - Using Flex to scan the tokens and Bison for rules"
   ]
  },
  {
   "cell_type": "code",
   "execution_count": 37,
   "id": "097b24fe-75df-42e4-8c76-4656e11f5373",
   "metadata": {},
   "outputs": [
    {
     "name": "stdout",
     "output_type": "stream",
     "text": [
      "Overwriting ch1-5.l\n"
     ]
    }
   ],
   "source": [
    "%%file ch1-5.l\n",
    "\n",
    "/* recognize tokens for the calculator and print them out */\n",
    "\n",
    "%{\n",
    "# include \"ch1-5.tab.h\"\n",
    "%}\n",
    "\n",
    "%%\n",
    "\"+\"\t{ return ADD; }\n",
    "\"-\"\t{ return SUB; }\n",
    "\"*\"\t{ return MUL; }\n",
    "\"/\"\t{ return DIV; }\n",
    "\"|\"     { return ABS; }\n",
    "\"(\"     { return OP; }\n",
    "\")\"     { return CP; }\n",
    "[0-9]+\t{ yylval = atoi(yytext); return NUMBER; }\n",
    "\\n      { return EOL; }\n",
    "\"//\".*  \n",
    "[ \\t]   { /* ignore white space */ }\n",
    "%%\n"
   ]
  },
  {
   "cell_type": "code",
   "execution_count": 27,
   "id": "7d542f78-b4fb-4356-b4de-0503d930ef47",
   "metadata": {},
   "outputs": [
    {
     "name": "stdout",
     "output_type": "stream",
     "text": [
      "Overwriting ch1-5.y\n"
     ]
    }
   ],
   "source": [
    "%%file ch1-5.y\n",
    "\n",
    "/* Implement parser using Bison rules/gammar */\n",
    "\n",
    "%{\n",
    "   #include <stdio.h>\n",
    "   void yyerror(const char* msg) {\n",
    "      fprintf(stderr, \"%s\\n\", msg);\n",
    "   }\n",
    "   int yylex();\n",
    "%}\n",
    "\n",
    "\n",
    "/* declare tokens */\n",
    "%token NUMBER\n",
    "%token ADD SUB MUL DIV ABS\n",
    "%token OP CP\n",
    "%token EOL\n",
    "\n",
    "%%\n",
    "\n",
    "calclist: /* nothing */\n",
    " | calclist exp EOL { printf(\"= %d\\n> \", $2); }\n",
    " | calclist EOL { printf(\"> \"); } /* blank line or a comment */\n",
    " ;\n",
    "\n",
    "exp: factor\n",
    " | exp ADD exp { $$ = $1 + $3; }\n",
    " | exp SUB factor { $$ = $1 - $3; }\n",
    " | exp ABS factor { $$ = $1 | $3; }\n",
    " ;\n",
    "\n",
    "factor: term\n",
    " | factor MUL term { $$ = $1 * $3; }\n",
    " | factor DIV term { $$ = $1 / $3; }\n",
    " ;\n",
    "\n",
    "term: NUMBER\n",
    " | ABS term { $$ = $2 >= 0? $2 : - $2; }\n",
    " | OP exp CP { $$ = $2; }\n",
    " ;\n",
    "%%\n",
    "\n",
    "int main()\n",
    "{\n",
    "  printf(\"> \"); \n",
    "  yyparse();\n",
    "  return 0;\n",
    "}\n",
    "\n"
   ]
  },
  {
   "cell_type": "code",
   "execution_count": null,
   "id": "89a6025f-a6e9-4cf3-a7ad-6be50e2b6b10",
   "metadata": {},
   "outputs": [],
   "source": [
    "%%bash\n",
    "\n",
    "bison -d ch1-5.y\n",
    "flex ch1-5.l\n",
    "gcc -o ch1-5 ch1-5.tab.c lex.yy.c -ll\n"
   ]
  },
  {
   "cell_type": "code",
   "execution_count": 43,
   "id": "9e23eb9b-bcf7-4b23-8119-40756068f906",
   "metadata": {},
   "outputs": [
    {
     "name": "stdout",
     "output_type": "stream",
     "text": [
      "> = 17\n",
      "> = 75\n",
      "> = 20\n",
      "> "
     ]
    }
   ],
   "source": [
    "%%bash\n",
    "./ch1-5\n",
    "2 + 3 * 5\n",
    "100 - 50 + 25\n",
    "50 / 5 * 2"
   ]
  },
  {
   "cell_type": "code",
   "execution_count": null,
   "id": "52fc7042-e712-412d-b62a-9cd4721eae1e",
   "metadata": {},
   "outputs": [],
   "source": []
  }
 ],
 "metadata": {
  "kernelspec": {
   "display_name": "Python 3 (ipykernel)",
   "language": "python",
   "name": "python3"
  },
  "language_info": {
   "codemirror_mode": {
    "name": "ipython",
    "version": 3
   },
   "file_extension": ".py",
   "mimetype": "text/x-python",
   "name": "python",
   "nbconvert_exporter": "python",
   "pygments_lexer": "ipython3",
   "version": "3.9.13"
  }
 },
 "nbformat": 4,
 "nbformat_minor": 5
}
